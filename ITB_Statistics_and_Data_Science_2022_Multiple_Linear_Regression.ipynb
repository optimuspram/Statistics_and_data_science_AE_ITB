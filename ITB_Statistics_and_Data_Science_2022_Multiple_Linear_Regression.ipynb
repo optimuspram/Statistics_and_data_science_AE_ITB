{
  "nbformat": 4,
  "nbformat_minor": 0,
  "metadata": {
    "colab": {
      "name": "ITB_Statistics_and_Data_Science_2022 _Multiple_Linear_Regression.ipynb",
      "provenance": [],
      "collapsed_sections": [],
      "include_colab_link": true
    },
    "kernelspec": {
      "name": "python3",
      "display_name": "Python 3"
    }
  },
  "cells": [
    {
      "cell_type": "markdown",
      "metadata": {
        "id": "view-in-github",
        "colab_type": "text"
      },
      "source": [
        "<a href=\"https://colab.research.google.com/github/optimuspram/Statistics_and_data_science_AE_ITB/blob/main/ITB_Statistics_and_Data_Science_2022_Multiple_Linear_Regression.ipynb\" target=\"_parent\"><img src=\"https://colab.research.google.com/assets/colab-badge.svg\" alt=\"Open In Colab\"/></a>"
      ]
    },
    {
      "cell_type": "markdown",
      "metadata": {
        "id": "pGcM0K8o_6N5"
      },
      "source": [
        "# Linear regression with Python: a short tutorial\n",
        "**Written by : Faiz Izzatturahman, Mohammad Daffa Robani**\n",
        "\n",
        "**Edited and maintained by: Pramudita Satria Palar, Javensius Sembiring, Edy Suwondo, Khairul Ummah.**\n",
        "\n",
        "**Last updated: 23-April-2022**\n",
        "\n",
        "This Python notebook explains a multiple linear regression model applied to a simple two-variable problem. \n",
        "\n",
        "There are several existing packages for linear regression (e.g. ```sklearn```) that you can use easily. However, in this notebook, we coded linear regression from scratch (which is not difficult anyway), so you can see the translation of what you just learned from class into Python codes. \n",
        "\n",
        "At the end of the notebook, we will also use KNN-regression from ```sklearn``` so that you can directly try and compare the approximation capability of a non-parametric model (i.e., KNN-regression) and parametric model (i.e., linear regression). ```sklearn``` is used because it is one of the most popular machine learning packages."
      ]
    },
    {
      "cell_type": "markdown",
      "metadata": {
        "id": "q_W5ewnxAfje"
      },
      "source": [
        "The very first step is to import several packages that we will use, to be more specific:\n",
        "- ```numpy``` for supporting multi-dimensional matrices.\n",
        "- ```pandas``` for importing the CSV data (although ```pandas``` has more capabilities!)\n",
        "- ```scipy```, specifically we will use the statistic package from scipy.\n",
        "- ```matplotlib``` for plotting the data.\n",
        "- ```mpl_toolkits``` for 3D plotting."
      ]
    },
    {
      "cell_type": "code",
      "metadata": {
        "id": "-hEGHr4wyikJ"
      },
      "source": [
        "import pandas as pd\n",
        "import numpy as np\n",
        "from scipy import stats\n",
        "from statsmodels.stats import weightstats as stests\n",
        "import matplotlib.pyplot as plt\n",
        "plt.rcParams.update({'font.size': 13})\n",
        "from mpl_toolkits.mplot3d import Axes3D\n",
        "import io"
      ],
      "execution_count": null,
      "outputs": []
    },
    {
      "cell_type": "markdown",
      "metadata": {
        "id": "kfaDSYvXyjbn"
      },
      "source": [
        "# Importing and Organizing The Data + Preliminary analysis\n",
        "\n",
        "\n"
      ]
    },
    {
      "cell_type": "markdown",
      "metadata": {
        "id": "FlFmQTv2BfuN"
      },
      "source": [
        "The first step you need to do is upload the data into your local cloud folder. To that end, we will use ```files.upload()``` from ```google.colab```. For this tutorial, we will use the ```Advertising_2D.csv```. However, you can actually use any CSV data! The first columns of your CSV should consist of the matrix of observation (your data set $\\boldsymbol{X}$): \n",
        "\n",
        "$\\boldsymbol{X} = \\begin{bmatrix} x_{11} & x_{12} & \\ldots & x_{1p}\\\\\n",
        "x_{21} & x_{22} & \\ldots & x_{2p} \\\\\n",
        "\\vdots & \\vdots & \\vdots & \\vdots \\\\\n",
        " x_{n1} & x_{n2} & \\ldots & x_{np}\\end{bmatrix}$\n",
        "\n",
        "where $n$ is the number of samples and $p$ is the number of input variables / features. The last column of your CSV should consist of the output $\\boldsymbol{y}$:\n",
        "\n",
        "$\\boldsymbol{y} = ( y_{1},y_{2},\\ldots,y_{n})^{T}$\n",
        "\n",
        "However, usually, we use the first column to indicate the number of observations. Hence, we use this format for this notebook.\n",
        "\n",
        "Let's execute the following cell to upload your CSV files into the local folder:\n"
      ]
    },
    {
      "cell_type": "code",
      "metadata": {
        "id": "QzKFFJeh0ciu"
      },
      "source": [
        "from google.colab import files\n",
        "#Import the data (in .csv file)\n",
        "uploaded = files.upload()"
      ],
      "execution_count": null,
      "outputs": []
    },
    {
      "cell_type": "markdown",
      "metadata": {
        "id": "0pEi0juoCSrM"
      },
      "source": [
        "The ```Advertising_2D.csv``` data is in CSV (comma separated values) format so we need to transform the data into a form that is suitable for our linear regression model. We will utilize ```read.csv``` from the ```pandas``` module to do just that and read the data as ```data```. Afterwards, we will transfrom the data into a Numpy array by using ```data.to_numpy``` with name ```data_array```.\n",
        "\n",
        "If you want to check the size of your data set, you can use ```data_array.shape[0]``` for the number of samples and ```data_array.shape[1]``` for the number of variables / feature / predictor in the data (essentially, the dimensionality of your input variables).\n",
        "\n",
        "How does your data looks like? You can take the five first rows of the data by taking a slice of your data set: use ```data_array[:5]```."
      ]
    },
    {
      "cell_type": "code",
      "metadata": {
        "id": "BCK6QDbpytM6"
      },
      "source": [
        "#Read the .csv file using Panda's module\n",
        "data = pd.read_csv('Advertising_2D.csv',index_col='Unnamed: 0') # You need to change this if the name of your csv file changes (the first column is the number of observation and we skip that)\n",
        "\n",
        "#Convert the format of the data into numpy array. This procedure is conducted to make it consistent with other variables afterward. This formatted data will be saved as data_array.\n",
        "data_array = data.to_numpy() # Convert the data into numpy format\n",
        "n_entries = data_array.shape[0] #Count the number of data entries (number of samples)\n",
        "n_var = data_array.shape[1]-1 #Count the number of variables in the data (feature/predictor)\n",
        "print(\"Five first rows of the data: \")\n",
        "print(data_array[:5])"
      ],
      "execution_count": null,
      "outputs": []
    },
    {
      "cell_type": "markdown",
      "metadata": {
        "id": "d51XDPjqD1QS"
      },
      "source": [
        "To process the data, we need to separate $\\boldsymbol{X}$ and $\\boldsymbol{y}$ from the data (i.e., the sampling points and the responses, respectively). Let us do just that and print the five first rows of $\\boldsymbol{X}$ and $\\boldsymbol{y}$."
      ]
    },
    {
      "cell_type": "code",
      "metadata": {
        "id": "yX8l_1vY0y5B"
      },
      "source": [
        "# # Extracting X and y. There are two ways you can do this, choose the one that you see fit\n",
        "\n",
        "# # Method 1: Slicing the numpy data_array (We use this data if we know that y is placed as the last column of the data)\n",
        "X = data_array[:,0:-1]  # Take X (features) from the data\n",
        "y = data_array[:,-1].reshape(-1,1) #Take y (responses) from the data\n",
        "\n",
        "# # Method 2: Handle data with pandas (DataFrame), then convert to numpy array\n",
        "# print(data.head()) # This command will print out all the columns (and a few rows) of your imported data if you want to see the names of the headers.\n",
        "# # Say my data has the headers 'A', 'B', 'C', 'D'. Where column 'C' is the output (y) and columns 'A', 'B' and 'D' are the inputs (X)\n",
        "# X = data[['A', 'B', 'D']] # i run this to 'filter' the data to give me only the rows from 'A', 'B' and 'D' , Note the double square brackets [[...]]\n",
        "# X = X.to_numpy() # We convert the DataFrame into a numpy array in order to perform matrix/arithmetic operations \n",
        "# y = data[['C']].to_numpy() # We can do this all in one line.\n",
        "\n",
        "print(\"Five first rows of X: \")\n",
        "print(X[:5])\n",
        "print(\"Five first rows of y: \")\n",
        "print(y[:5].reshape(-1,1)) # Reshape into a two-dimensional array"
      ],
      "execution_count": null,
      "outputs": []
    },
    {
      "cell_type": "markdown",
      "metadata": {
        "id": "6lMg1uBokdsE"
      },
      "source": [
        "# **Pearson Correlation Coefficient (r)**\n",
        "One useful technique to check the correlation between variables is to use Pearson correlation coefficient. You have learned the basic from class, so you know that positive $r$ means that both variables change in the same direction (and the opposite for negative $r$). Here is the equation for your reminder.\n",
        "\n",
        "$r = \\frac{\\sum{(X_1 - \\mu_{X_1})(X_2 - \\mu_{X_2})}}{\\sqrt{\\sum{(X_1 - \\mu_{X_1})^2}\\sum{(X_2 - \\mu_{X_2})^2}}}$\n",
        "\n",
        "The Pearson Correlation Coefficient calculates the linear relationship between two datasets $X_1$ and $X_2$ with their respective mean values $\\mu_{X_1}$ and $\\mu_{X_2}$ . The coefficient, **r**, takes on values between -1 and +1. Whereby the sign of the value indicates negative or positive correlation. Finally, the magnitude determines how linear the correlation is. \n",
        "\n",
        "We will make a correlation matrix because you have two inputs and one output variables. For that, we will call ```stats.pearsonr``` to calculate the correlation\n"
      ]
    },
    {
      "cell_type": "code",
      "metadata": {
        "id": "y_mD4ujT2V8u"
      },
      "source": [
        "#Function to create correlation matrix from each variable in the data (using stats)\n",
        "def correlmat(data):\n",
        "    n_var = data.shape[1]-1\n",
        "    correl = np.zeros((n_var+1,n_var+1))\n",
        "    for i in range(n_var+1):\n",
        "        for j in range(n_var+1):\n",
        "            correl[i,j],_ = stats.pearsonr(data[:,i],data[:,j]) #Calculate pearson correlation coefficient\n",
        "    return correl"
      ],
      "execution_count": 12,
      "outputs": []
    },
    {
      "cell_type": "markdown",
      "metadata": {
        "id": "ssnRIZAFHaZs"
      },
      "source": [
        "Alternatively, we can directly code the Pearson's correlation coefficient without using any package; that's pretty easy, see below (you can run this one or the previous one, the result would be the same):"
      ]
    },
    {
      "cell_type": "code",
      "metadata": {
        "id": "p8YIQ7h4F_1E"
      },
      "source": [
        "#Function to create correlation matrix from each variable in the data (by coding)\n",
        "def correlmat(data):\n",
        "    n_var = data.shape[1]-1\n",
        "    correl = np.zeros((n_var+1,n_var+1))\n",
        "    for i in range(n_var+1):\n",
        "        for j in range(n_var+1):\n",
        "            mu_i = np.mean(data[:,i])\n",
        "            mu_j = np.mean(data[:,j])\n",
        "            num = np.sum(np.multiply(data[:,i]-mu_i,data[:,j]-mu_j))\n",
        "            den = np.sqrt(np.sum((data[:,i]-mu_i)**2)*np.sum((data[:,j]-mu_j)**2))\n",
        "            correl[i,j] = num/den #Calculate pearson correlation coefficient\n",
        "    return correl"
      ],
      "execution_count": 14,
      "outputs": []
    },
    {
      "cell_type": "markdown",
      "metadata": {
        "id": "CxXQNMI0HpO7"
      },
      "source": [
        "Now that we have the ```correlmat``` function, all you need to do is to apply this function to your data set and print the result:"
      ]
    },
    {
      "cell_type": "code",
      "metadata": {
        "id": "gTzIS2Ec2nFG"
      },
      "source": [
        "#To obtain the correlation matrix of the data, call correlmat function, input: data_array \n",
        "correl_matrix = correlmat(data_array) #The correlation matrix is saved as correl_matrix\n",
        "print(\"Correlation Matrix: \")\n",
        "print(correl_matrix)"
      ],
      "execution_count": null,
      "outputs": []
    },
    {
      "cell_type": "markdown",
      "metadata": {
        "id": "z8b17YtPOJnO"
      },
      "source": [
        "Now, how would you interpret the correlation matrix that you just calculated?"
      ]
    },
    {
      "cell_type": "markdown",
      "metadata": {
        "id": "pEIWp8OfJOaa"
      },
      "source": [
        "# Visualizing your data set.\n",
        "If your variable only has one or two variables, you can plot the data by using scatterplot. Let's use ```plt.scatter``` to do just that. Please run the cell below first:"
      ]
    },
    {
      "cell_type": "code",
      "metadata": {
        "id": "Fk46hPT23QK0"
      },
      "source": [
        "#@title Visualize the data with scatter plot\n",
        "#This procedure can only be conducted if the number of variables are 1/2\n",
        "#Function to create scatter plot of the data\n",
        "def datascatterplot(X,y):\n",
        "  n_var = X.shape[1]\n",
        "  if n_var == 1: #Procedure for one variable\n",
        "      fig = plt.figure(figsize=[8,6])\n",
        "      plt.scatter(X,y,color='tab:orange')\n",
        "      plt.title('Scatter Plot of the Samples',fontsize=16)\n",
        "      plt.xlabel('x',fontsize=14)\n",
        "      plt.ylabel('y',fontsize=14)\n",
        "      plt.grid()\n",
        "      plt.show()\n",
        "  elif n_var == 2: #Procedure for two variables\n",
        "      fig = plt.figure(figsize=[8,6])\n",
        "      ax = plt.axes(projection='3d')\n",
        "      ax.scatter3D(X[:,0],X[:,1],y,color='tab:orange')\n",
        "      ax.set_xlabel('x1',fontsize=14)\n",
        "      ax.xaxis.labelpad = 10\n",
        "      ax.set_ylabel('x2',fontsize=14)\n",
        "      ax.yaxis.labelpad = 10\n",
        "      ax.set_zlabel('y',fontsize=14)\n",
        "      plt.title('Scatter Plot of the Samples',fontsize=16)\n",
        "      plt.show()\n",
        "  else:\n",
        "      print(\"Your data has more than two variables\")"
      ],
      "execution_count": 16,
      "outputs": []
    },
    {
      "cell_type": "markdown",
      "metadata": {
        "id": "5II6P9_bFFUf"
      },
      "source": [
        "Afterward, run the following cell to create a scatter plot of $\\boldsymbol{x}_{1}$, $\\boldsymbol{x}_{2}$ and $y$. You can see qualitatively how the input variables are related to the output. Although it looks nice, we want to do such an analysis in a quantitative manner; which is the reason why we need **multiple linear regression** model. Linear regression model allows us to infer the linear relationship between the input and the output. As we will see later, analyzing the coefficients gives us important insight into the problem!"
      ]
    },
    {
      "cell_type": "code",
      "metadata": {
        "colab": {
          "base_uri": "https://localhost:8080/",
          "height": 357
        },
        "id": "_EQBlp9L4Rn7",
        "outputId": "e66671cf-c0b7-45af-f3dc-e44d92c525c6"
      },
      "source": [
        "#To visualize the data, call datascatterplot function, input: X,y\n",
        "datascatterplot(X,y)"
      ],
      "execution_count": 17,
      "outputs": [
        {
          "output_type": "display_data",
          "data": {
            "text/plain": [
              "<Figure size 576x432 with 1 Axes>"
            ],
            "image/png": "[encoded data removed]"
          },
          "metadata": {
            "needs_background": "light"
          }
        }
      ]
    },
    {
      "cell_type": "markdown",
      "metadata": {
        "id": "TJSzmhUrzKTR"
      },
      "source": [
        "# Creating a Linear Regression Model\n",
        "\n",
        "\n"
      ]
    },
    {
      "cell_type": "markdown",
      "metadata": {
        "id": "KwUqHOMW8sKJ"
      },
      "source": [
        "**Linear Regression**\n",
        "\n",
        "---\n",
        "Given a dataset $X = (x_1, x_2, x_3, \\dots , x_n)$, we can infer a *linear* function $\\hat{f}$ such that it can provide us predictions $\\hat{Y}$ at any given value of $x$. There are various approximation models, but we will limit our discussion to the simplest but highly useful one, i.e., linear regression. To do so, we use the linear regression equation,\n",
        "\\begin{equation}\n",
        "Y = \\beta_0 + \\sum_{i=1}^{p} \\beta_p X_{p} + \\epsilon\n",
        "\\end{equation}\n",
        "Where, $\\beta_0$ is the intercept/bias and $\\beta_i$ is the coefficient representing the slope of $f$ for the $i$-th variable (think of $m$ in $f(x)=mx+c$ for a 1-D line), and $\\epsilon$ is the error. Our task is to estimate $\\beta_{0},\\beta_{2},\\ldots,\\beta_{p}$; thus, we have\n",
        "\n",
        "\\begin{equation}\n",
        "\\hat{y} = \\hat{\\beta_0} + \\sum_{i=1}^{p} \\hat{\\beta_p} X_{p}\n",
        "\\end{equation}\n",
        "\n",
        "in which we obtain $\\hat{\\beta_{0}}, \\hat{\\beta_{1}},\\ldots, \\hat{\\beta_{p}}$ based on our data $\\boldsymbol{X}$. It is easier to write the coefficients in a single vector, that is, $\\boldsymbol{\\beta} = \\{\\beta_{0},\\beta_{1},\\ldots,\\beta_{p}\\}$. To make the linear regression equation more compact, notice how the summation can be turned into a matrix dot product. To do this we simply *concatenate* a vector of ones into the data set $\\boldsymbol{X}$ (lets call the resulting matrix as $\\mathbf{F} = (\\boldsymbol{1}, \\boldsymbol{X})$. That is,\n",
        "\\begin{equation}\n",
        "\\mathbf{F}\\boldsymbol{\\beta} = \\mathbf{y}\n",
        "\\end{equation}\n",
        "The objective now is how do we calculate the unknown coefficients in the vector $\\boldsymbol{\\beta}$. Because there is no exact solution, we want to find the estimation $\\hat{\\boldsymbol{\\beta}}$ that best fits the equation.\n",
        "\n",
        "The linear regression equation defined above is a template for our **linear model**, meaning it is a model once we define the coefficient vector $\\hat{\\beta}$. The process of finding $\\hat{\\beta}$ is termed *fitting the (linear) model*. There are many methods of fitting the model, a common method is the method of *least squares*. This method chooses the coefficients for $\\hat{\\boldsymbol{\\beta}}$ such that it minimizes the residual sum of squares (RSS). Why do we need to minimize RSS? In essence, we minimize RSS because we want our linear \"line\" (notice that I use \"line\" because it is a plane if we have more than one variable!)\n",
        "\n",
        "The RSS is defined as,\n",
        "\\begin{equation}\n",
        "RSS(\\hat{\\boldsymbol{\\beta}}) = \\sum_{i=1}^{n} (y_i-\\hat{y}_{i})^2 = \\sum_{i=1}^{n}(y_{i}-\\hat{\\beta}_{0}-\\hat{\\beta}_{1}x_{i1}-\\hat{\\beta}_{2}x_{i2}-\\ldots-\\hat{\\beta}_{p}x_{ip})^{2}\n",
        "\\end{equation}\n",
        "The equation above means that we want to reduce the sum of the squared error between the prediction and the data for all $n$ samples. We can write the equation above in terms of $\\mathbf{y}$, $\\mathbf{F}$, and $\\boldsymbol{\\beta}$\n",
        "\n",
        "\\begin{equation}\n",
        "RSS(\\hat{\\boldsymbol{\\beta}}) = (\\mathbf{y}-\\mathbf{F}\\hat{\\boldsymbol{\\beta}})^T(\\mathbf{y}-\\mathbf{F}\\hat{\\boldsymbol{\\beta}})\n",
        "\\end{equation}\n",
        "\n",
        "To which the minimum can be found by differentiating w.r.t to $\\hat{\\beta}$ and rearranged to,\n",
        "\\begin{equation}\n",
        "\\hat{\\boldsymbol{\\beta}} = (\\mathbf{F}^T\\mathbf{F})^{-1}\\mathbf{F}^T\\mathbf{y}\n",
        "\\end{equation}"
      ]
    },
    {
      "cell_type": "markdown",
      "metadata": {
        "id": "BKOjnDlKn-V9"
      },
      "source": [
        "**Estimation of variance**\n",
        "\n",
        "---\n",
        "To estimate the variance, $\\hat{\\sigma}^2$, of the model, we use the RSS value as follows,\n",
        "\n",
        "\\begin{equation}\n",
        "\\hat{\\sigma}^2 = \\frac{RSS(\\hat{\\beta})}{n_{entries}-n_{variables}}\n",
        "\\end{equation}\n",
        "Where $n_{entries}$ is the number of rows and $n_{variables}$ is the number of columns of $F$.\n",
        "Thus, the variance of each coefficient in $\\hat{\\beta}$ would be the **diagonal elements** of,\n",
        "\\begin{equation}\n",
        "Var(\\hat{\\beta}) = (\\mathbf{F}^T\\mathbf{F})^{-1}\\hat{\\sigma}^2\n",
        "\\end{equation}\n",
        "\n",
        "The cell below creates the ```LinearRegression``` subroutine that you will need for calculation. The input to  ```LinearRegression``` is your data set $\\boldsymbol{X}$ and the vector of output $\\boldsymbol{y}$. For now, you can just execute the cell below to define the linear regression program. However, if you are curious on how to code linear regression, just read the code line by line and try to understand them!\n",
        "\n",
        "\n"
      ]
    },
    {
      "cell_type": "code",
      "metadata": {
        "id": "GmOHHjq5IKA2"
      },
      "source": [
        "#Function to train a linear regression model on the data. This function will provede regression coefficeints (beta) and its variances (beta_var).\n",
        "def LinearRegression(X,y):\n",
        "    n_entries = X.shape[0] #Count the number of data entries (number of samples)\n",
        "    n_var = X.shape[1] #Count the number of variables in the data (feature/predictor)\n",
        "\n",
        "    F = np.ones((n_entries,n_var+1)) # Initialize the F matrix\n",
        "    F[:,1:] = X \n",
        "\n",
        "    #Procedure to obtain regression coefficients by minimizing RSS error\n",
        "    beta = np.linalg.inv(np.transpose(F)@F)@np.transpose(F)@y #Procedure to minimize RSS error\n",
        "    #Procedure to obtain variances from the regression coefficients\n",
        "    y_hat = F@beta #Predictions at X\n",
        "    res_sqr = np.power((y-y_hat),2) #Calculate RSS of the trained linear regression model\n",
        "    sig_hat_sqr = np.sum(res_sqr)/(n_entries-n_var-1) #Estimate sigma squared\n",
        "    beta_var = (np.linalg.inv(np.transpose(F)@F)*sig_hat_sqr).diagonal() #Calculate variance of each regression coefficient\n",
        "    beta_var = beta_var.reshape(-1,1)\n",
        "    return beta,beta_var"
      ],
      "execution_count": 18,
      "outputs": []
    },
    {
      "cell_type": "markdown",
      "metadata": {
        "id": "bQg6m4hxQQZu"
      },
      "source": [
        "Alright, now you can apply ```LinearRegression``` to you data set. The values of $\\boldsymbol{\\hat{\\beta}}$ will also be printed, what will be printed, from the first row is $\\hat\\beta_{0}$, followed by $\\hat\\beta_{1}$, $\\hat\\beta_{2}$, and so on until $\\hat\\beta_{p}$. If you have two variables, then what will appear are just $\\hat\\beta_{0}, \\hat\\beta_{1}$ and $\\hat\\beta_{2}$"
      ]
    },
    {
      "cell_type": "code",
      "metadata": {
        "id": "V-9wnf-u-sz6"
      },
      "source": [
        "#To train linear regression model on the data (obtain beta and beta_var), call LinearRegression function, input: F, y\n",
        "beta, beta_var = LinearRegression(X,y)\n",
        "\n",
        "# Print the coefficients\n",
        "print(\"The coefficients of your linear regression model are as follows:\")\n",
        "for i in range(0,n_var+1):\n",
        "    print('beta_{} = {:.4f}'.format(i,beta[i,0]))\n",
        "    "
      ],
      "execution_count": null,
      "outputs": []
    },
    {
      "cell_type": "markdown",
      "metadata": {
        "id": "YUT6XmOOT_33"
      },
      "source": [
        "Now please interpret the coefficients! What do they tell you about the problem?"
      ]
    },
    {
      "cell_type": "markdown",
      "metadata": {
        "id": "Hke2NM4kVmoW"
      },
      "source": [
        "# **Linear Regression Prediction**\n",
        "After you build your linear regression model, you can use that model to make any prediction. In this demonstration, we will use ```LinearRegressionPredict``` that takes two inputs, namely, ```X_pred``` (the site where you want to make a prediction) and ```beta``` (the linear regression coefficients below). You need to execute the code below first:"
      ]
    },
    {
      "cell_type": "code",
      "metadata": {
        "id": "Dskvi6DaVy5f"
      },
      "source": [
        "def LinearRegressionPredict(X_pred,beta):\n",
        "    # Create regression matrix\n",
        "    n_entries = X_pred.shape[0] #Count the number of data entries (number of samples)\n",
        "    n_var = X_pred.shape[1] #Count the number of variables in the data (feature/predictor)\n",
        "\n",
        "    Fpred = np.ones((n_entries,n_var+1)) # Initialize the F matrix\n",
        "    Fpred[:,1:] = X_pred\n",
        "    y_hat = Fpred@beta #Predictions at X\n",
        "    return y_hat"
      ],
      "execution_count": 40,
      "outputs": []
    },
    {
      "cell_type": "markdown",
      "metadata": {
        "id": "qvPKNeCTX2Mn"
      },
      "source": [
        "Good. now you can make prediction practically everywhere. The input should be in the form of two-dimensional numpy array. For example, let's say that you already have ```beta``` and you want to make a prediction at $\\boldsymbol{x}=[200, 20]$, then your input to ```LinearRegressionPrediction``` will be:\n",
        "\n",
        "```ypred = LinearRegressionPredict(np.array([[200,20]]),beta)```\n",
        "\n",
        "```ypred``` is the value of the prediction. Do ```print(ypred)``` to print the value:"
      ]
    },
    {
      "cell_type": "code",
      "metadata": {
        "id": "oQHKJxCiXOG-"
      },
      "source": [
        "ypred = LinearRegressionPredict(np.array([[200,20]]),beta)\n",
        "print(ypred)"
      ],
      "execution_count": null,
      "outputs": []
    },
    {
      "cell_type": "markdown",
      "metadata": {
        "id": "ZQtbwzELa0v6"
      },
      "source": [
        "If you have prediction sites more than one point, then you need to do it like this (let's say that you collect the prediction sites into ```X_pred```):"
      ]
    },
    {
      "cell_type": "code",
      "metadata": {
        "id": "Jo0ubpXBbG8r"
      },
      "source": [
        "X_pred = np.array([[200, 20],[150, 10],[160, 25],[140, 30]])\n",
        "\n",
        "ypred = LinearRegressionPredict(X_pred,beta)\n",
        "print(ypred)"
      ],
      "execution_count": null,
      "outputs": []
    },
    {
      "cell_type": "markdown",
      "metadata": {
        "id": "980hqnmEbZda"
      },
      "source": [
        "Be careful that the prediction should have the number of columns equal to your input points ```X```. That is, the number of inputs for both the prediction sites and the input points are the same! Otherwise, there will be an error in the program.\n",
        "\n",
        "Maybe it would more convenient for you if you write the prediction sites in notepad / Excel first and then import the file to this Google colab. Worry not, just upload your file first (let's say the name of your file is ```prediction_sites_Advertising_2D.csv```), and then execute the code below: "
      ]
    },
    {
      "cell_type": "code",
      "metadata": {
        "id": "DxdwW1FNcdG1"
      },
      "source": [
        "#Read the .csv file using Panda's module\n",
        "data_pred = pd.read_csv('prediction_sites_Advertising_2D.csv') \n",
        "#Convert the format of the data into numy array. This procedure is conducted to make it consistent with other variables afterward. This formatted data will be saved as data_array.\n",
        "X_pred = data_pred.to_numpy()\n",
        "ypred = LinearRegressionPredict(X_pred,beta)\n",
        "print(ypred)"
      ],
      "execution_count": null,
      "outputs": []
    },
    {
      "cell_type": "markdown",
      "metadata": {
        "id": "0gCl0MiRwDix"
      },
      "source": [
        "You can save the prediction sites and also the predicted value into a CSV or excel file  by executing the following cell:"
      ]
    },
    {
      "cell_type": "code",
      "metadata": {
        "id": "b3FjGd2KwK6v"
      },
      "source": [
        "filenamecsv = 'predicted_LR_values_Advertising_2D.csv' # Name of the file\n",
        "filenamexls = 'predicted_LR_values_Advertising_2D.xlsx' # Name of the file\n",
        "DF = pd.DataFrame(np.hstack([X_pred,ypred])) # Create a dataframe\n",
        "DF.to_csv(filenamecsv) # Save the predicted data to csv\n",
        "DF.to_excel(filenamexls) # Save the predicted data to csv"
      ],
      "execution_count": 72,
      "outputs": []
    },
    {
      "cell_type": "markdown",
      "metadata": {
        "id": "7KiuWuA5yPiX"
      },
      "source": [
        "You then need to download the CSV/excel file and open it in notepad or microsoft excel. The first row of the CSV/excel would be the identity of the variables (e.g. 0, 1,2..), you can ignore that for now. Similarly, the first column would be the identity of the samples, which according to Python starts from zero (you can also ignore that)"
      ]
    },
    {
      "cell_type": "markdown",
      "metadata": {
        "id": "pVOJH0jIzSSZ"
      },
      "source": [
        "# 3. Evaluating and Interpreting The Model\n",
        "\n",
        "\n"
      ]
    },
    {
      "cell_type": "markdown",
      "metadata": {
        "id": "Kh5hJCRGMJjI"
      },
      "source": [
        "In order to evaluate the *accuracy* of the coefficients, and consequently the predictive model, we first compute several metrics.\n",
        "\n",
        "1. Previously, $Var(\\hat{\\beta})$ was calculated. However, the *standard error* is usually the metric used to account for the accuracy of the coefficients. The standard error is simply the standard deviation of the coefficients. That is, \n",
        "\\begin{equation}\n",
        "SE(\\hat{\\beta}) = \\sqrt{Var(\\hat{\\beta})}\n",
        "\\end{equation}\n",
        "2.   With the standard error of the coefficients we can compute the $k\\%$ confidence intervals. A  $k\\%$ confidence interval is defined as the range of values, in our case the coefficients, would take such that we are $k\\%$ *certain* that the true coefficient value is within the range. Usually we look for the $95\\%$ confidence interval. This is calculated as,\n",
        "\\begin{equation}\n",
        "\\hat{\\beta} \\pm t_{\\alpha/2} \\cdot SE(\\hat{\\beta})\n",
        "\\end{equation}\n",
        "where $t_{\\alpha/2}$ is the 100 $\\alpha/2$ percentage point of the $t$-distribution with $n-2$ degrees of freedom.\n",
        "3. The standard error can also be used to perform the standard hypothesis tests. That is, testing the null hypothesis ($H_0 : \\hat{\\beta} = 0$), \"*There is no relationship between X and Y*\", versus the alternative hypothesis ($H_a : \\hat{\\beta} \\neq 0$) \"*There is a relationship between X and Y*\".\n",
        "4. In order to test our hypotheses we perform a *t-test*. A *t-test* is a procedure to find if there is a significant difference in the means of **two groups**. To do so, we first calculate the *t-statistic*\n",
        " \n",
        "    4.1.   In the present case, each coefficient in the $\\hat{\\beta}$ vector corresponds to a mean value over a range of values defined by the 95% confidence interval. This is our **first group**.\n",
        "\n",
        "    4.2.   The null hypothesis, stated above, assumes that all the coefficients in $\\hat{\\beta}$ are zero. This is our **second group**\n",
        "\n",
        "    4.3    The *t-statistic* is a measurement of how many standard deviations group 1 is away from group 2. Therefore, in our case this is calculated as,\n",
        "\n",
        "    \\begin{equation}\n",
        "    t = \\frac{\\hat{\\beta}- 0}{SE(\\hat{\\beta})}\n",
        "    \\end{equation}\n",
        "5. Following from the previous point, if we assume that the null hypothesis is True, then the t-statistic calculated above will form a *t-distribution* with $n_{entries}-2$ degrees of freedom.\n",
        "6. From the t (probability) distribution, we can extract a probability $p$ from the corresponding t-statistic.\n",
        "7. Finally, from the $p$ value, given that the range of values is given a 95% confidence interval, then the null hypothesis can be rejected if $p < 0.05 (5\\%)$.\n",
        "\n",
        "\n",
        "\n"
      ]
    },
    {
      "cell_type": "code",
      "metadata": {
        "id": "29Zt4M0u_BbX"
      },
      "source": [
        "#Function to construct a summary matrix\n",
        "def summarymat(beta, beta_var, n_entries):\n",
        "    n_var = beta.shape[0]-1\n",
        "    beta_std = np.power(beta_var,0.5)\n",
        "    summary = np.zeros((n_var+1,5))\n",
        "    summary[:,0] = beta[:,0] #Regression coefficients\n",
        "    summary[:,1] = beta_std[:,0] #Standard deviation of the regression coefficients\n",
        "    summary[:,2] = np.divide(beta[:,0],beta_std[:,0]) #t-statistic\n",
        "    df = n_entries-2 #Degree of freedom \n",
        "    summary[:,3] = ((np.ones((summary.shape[0],1))-stats.t.cdf(np.abs(summary[:,2]),df).reshape(-1,1)).reshape(-1,))*2 #Calculate p-value based on t-statistic\n",
        "    #Hypothesis test for 95% confidence interval\n",
        "    for i in range(n_var+1):\n",
        "        if summary[i,3]<= 0.05: #If p <= 0.05\n",
        "            summary[i,4] = 1\n",
        "        else: #If p > 0.05\n",
        "            summary[i,4] = 0 \n",
        "    return summary"
      ],
      "execution_count": 71,
      "outputs": []
    },
    {
      "cell_type": "markdown",
      "metadata": {
        "id": "XQTaHyHmMIwT"
      },
      "source": [
        "Execute the following cell to obtain the summary statistic. The hypothesis test column shows whether the null hypothesis is rejected (1) or not (0) based on the p-value and the level of significance:"
      ]
    },
    {
      "cell_type": "code",
      "metadata": {
        "id": "x3TGOODk_vGa"
      },
      "source": [
        "#To obtain the summary matrix of the trained model, call summarymat function, input: beta, beta_var, n_entries\n",
        "summary = summarymat(beta,beta_var,n_entries)\n",
        "print(\"Summary matrix: \")\n",
        "print(pd.DataFrame(summary,columns=['Beta','Standard Deviation', 't-statistic', 'p-value', 'Hypothesis Test']))"
      ],
      "execution_count": null,
      "outputs": []
    },
    {
      "cell_type": "markdown",
      "metadata": {
        "id": "6MmD_ZjhiVF8"
      },
      "source": [
        "# Evaluating the $R^{2}$ and MSE of the model\n",
        "\n",
        "So far we have evaluated the accuracy of our estimates in the coefficients. Naturally we also want to ask: how accurate is our model in predicting the data? (i.e., the strength of our predictive model). To that end, we introduce the $R^2$ metric.\n",
        "\n",
        "The $R^2$, is defined as,\n",
        "\\begin{equation}\n",
        "R^2 = \\frac{TSS-RSS}{TSS} = 1-\\frac{RSS}{TSS}\n",
        "\\end{equation}\n",
        "where $TSS=\\sum{(y_i - \\bar{y})^2}$ is the *total sum of squares*. The TSS is a variable that measures the total variance in the output. Recall that the R in RSS stands for residual, therefore, the RSS is a measurement of variability that is left *unexplained/unknown* after performing regression (this is reflective of the number of samples you have in $X$ to be used to make the model). Which means that the $R^2$ value measures the proportion of variability in $Y$ that can be explained with the given data $X$ and thus, the $R^2$ metric can also be seen as a mesurement of correlation between X and Y. Conveniently, taking values between 0 and 1, the closer the $R^2$ value is to 1, the more correlated the model. Meaning, with a good correlation between the data X and the output Y, future predictions will be more accurate i.e. the model will produce outputs Y that follows the trend of the data well.\n",
        "\n",
        "We can also calculate the **residual standard error (RSE)** as follows:\n",
        "\\begin{equation}\n",
        "RSE = \\sqrt{\\frac{1}{n-2}RSS}\n",
        "\\end{equation}\n",
        "\n",
        "Let's do that by executing the following cell to create the subroutine to compute the $R^{2}$ and $RSE$. The subroutine takes $X$, $y$, and $\\boldsymbol{\\beta}$ as the inputs:"
      ]
    },
    {
      "cell_type": "code",
      "metadata": {
        "id": "koTsnSW1Aumb"
      },
      "source": [
        "#Calculates the accuracy of the linear regression model in R2 error\n",
        "#Function to calculates R2 error\n",
        "def R2_comp(X,y,beta):\n",
        "    n_entries = X.shape[0] #Count the number of data entries (number of samples)\n",
        "    n_var = X.shape[1] #Count the number of variables in the data (feature/predictor)\n",
        "\n",
        "    F = np.ones((n_entries,n_var+1)) # Initialize the F matrix\n",
        "    F[:,1:] = X \n",
        "\n",
        "    #Calculate TSS (Total sum of squares)\n",
        "    TSS = np.sum(np.power((y-np.mean(y)),2)) \n",
        "    #Calculate RSS (Residual sum of squares)\n",
        "    y_hat = F@beta #Predictions at each X\n",
        "    RSS = np.sum(np.power((y-y_hat),2))\n",
        "    #Calculate R2\n",
        "    R2 = (TSS-RSS)/TSS \n",
        "    #Calculate RSE\n",
        "    RSE = np.sqrt((1/(n_entries-2))*RSS)\n",
        "    return R2,RSE"
      ],
      "execution_count": 25,
      "outputs": []
    },
    {
      "cell_type": "markdown",
      "metadata": {
        "id": "v2A9CbGfbjeC"
      },
      "source": [
        "Let's try that with the best $\\hat{\\boldsymbol{\\beta}}$:"
      ]
    },
    {
      "cell_type": "code",
      "metadata": {
        "id": "g9TIRYjKBakM"
      },
      "source": [
        "#To obtain R2 error, call R2_comp function, input: F, y, beta\n",
        "R2, RSE = R2_comp(X,y,beta)\n",
        "print(\"R2-score with the best model: {}\".format(R2))\n",
        "print(\"RSE-score with the best model: {}\".format(RSE))"
      ],
      "execution_count": null,
      "outputs": []
    },
    {
      "cell_type": "markdown",
      "metadata": {
        "id": "B0TazdEWbz6l"
      },
      "source": [
        "Let's try again with some random beta $\\hat{\\boldsymbol{\\beta}}$:"
      ]
    },
    {
      "cell_type": "code",
      "metadata": {
        "id": "ZwIxvllnbxNf"
      },
      "source": [
        "#Obtain R2 error\n",
        "betarandom = np.array([[3,0.05,0.15]]).T\n",
        "R2r, RSEr = R2_comp(X,y,betarandom)\n",
        "print(\"R2-score with some random beta: {}\".format(R2r))\n",
        "print(\"RSE-score with the best model: {}\".format(RSEr))"
      ],
      "execution_count": null,
      "outputs": []
    },
    {
      "cell_type": "markdown",
      "metadata": {
        "id": "0DEo9uQjcJqg"
      },
      "source": [
        "No matter how hard you try with random $\\hat{\\boldsymbol{\\beta}}$, the $R^2$ cannot exceed the best $\\hat{\\boldsymbol{\\beta}}$ estimated from minimizing the RSS."
      ]
    },
    {
      "cell_type": "markdown",
      "metadata": {
        "id": "QvNHt89DcUoW"
      },
      "source": [
        "# Visualizing the trained linear regression model\n",
        "\n",
        "After you finish constructing the linear regression model, you might want to visualize it. Remember that you can only do it for $p=1$ and $p=2$. There's no math involved here, just some plotting tools. The input to ```modelplot``` are $\\hat{\\boldsymbol{\\beta}}$, $\\boldsymbol{X}$, and $\\boldsymbol{y}$; thus, you can change $\\hat{\\boldsymbol{\\beta}}$ to any values (but of course you have primary interest on the best linear regression model)"
      ]
    },
    {
      "cell_type": "code",
      "metadata": {
        "id": "nFEwz55GBopf",
        "cellView": "form"
      },
      "source": [
        "#@title Visualize the trained linear regression model\n",
        "\n",
        "#Function to visualize the trained linear regression model. This procedure can only be conducted if the number of variables are 1/2\n",
        "def modelplot(beta,X):\n",
        "    n_var = X.shape[1]\n",
        "    if n_var == 2: #Procedure for two variables\n",
        "        x1range = np.array([np.min(X[:,0]), np.max(X[:,0])]) \n",
        "        x2range = np.array([np.min(X[:,1]), np.max(X[:,1])])\n",
        "        #Create prediction locations\n",
        "        x1, x2= np.meshgrid(np.linspace(x1range[0],x1range[1],21),np.linspace(x2range[0],x2range[1],21)) \n",
        "        x1_vec = x1.reshape(-1,)\n",
        "        x2_vec = x2.reshape(-1,)\n",
        "        F_temp = np.ones((21*21,3))\n",
        "        F_temp[:,1] = x1_vec\n",
        "        F_temp[:,2] = x2_vec\n",
        "        #Calculates predictions at the prediction locations\n",
        "        y_hat_vec = F_temp@beta\n",
        "        y_hat_mat = y_hat_vec.reshape(21,21) #Transform the vector of predictions into matrix\n",
        "        \n",
        "        fig = plt.figure(figsize=[8,6])\n",
        "        ax = fig.gca(projection='3d')\n",
        "        ax.scatter3D(X[:,0],X[:,1],y,color='tab:orange',label='Samples')\n",
        "        surf = ax.plot_surface(x1,x2,y_hat_mat,alpha=0.3,color='tab:blue',label='Linear Regression Model')\n",
        "        surf._facecolors2d=surf._facecolors3d\n",
        "        surf._edgecolors2d=surf._edgecolors3d\n",
        "        ax.set_xlabel('x1',fontsize=14)\n",
        "        ax.xaxis.labelpad = 10\n",
        "        ax.set_ylabel('x2',fontsize=14)\n",
        "        ax.yaxis.labelpad = 10\n",
        "        ax.set_zlabel('y',fontsize=14)\n",
        "        plt.title('Linear Regression Model on The Samples',fontsize=16)\n",
        "        ax.legend(loc=2,bbox_to_anchor=(0.1, 0.9))\n",
        "        plt.show()\n",
        "    \n",
        "    elif n_var == 1: #Procedure for one variable\n",
        "        #Create prediction locations\n",
        "        x1range = np.array([np.min(X[:,0]), np.max(X[:,0])])\n",
        "        x1 = np.linspace(x1range[0],x1range[1],21)\n",
        "        F_temp = np.ones((21,2))\n",
        "        F_temp[:,1] = x1\n",
        "        #Calculates predictions at the prediction locations\n",
        "        y_hat = np.matmul(F_temp,beta)\n",
        "        \n",
        "        fig = plt.figure(figsize=[8,6])\n",
        "        plt.scatter(X,y,color='tab:orange', label='Samples')\n",
        "        plt.plot(x1,y_hat,color='tab:blue',linewidth=4, label='Linear Regression Model')\n",
        "        plt.title('Linear Regression Model on The Samples', fontsize=16)\n",
        "        plt.xlabel('x',fontsize=14)\n",
        "        plt.ylabel('y',fontsize=14)\n",
        "        plt.legend()\n",
        "        plt.grid()\n",
        "        plt.show()\n",
        "    else:\n",
        "        print(\"Your data has more than two variables\")"
      ],
      "execution_count": 28,
      "outputs": []
    },
    {
      "cell_type": "markdown",
      "metadata": {
        "id": "gUp8EMGdc2w1"
      },
      "source": [
        "Now execute the following cell to plot your data and the linear regression model:"
      ]
    },
    {
      "cell_type": "code",
      "metadata": {
        "id": "m6HOArbSCTQt"
      },
      "source": [
        "#To visualize the trained linear regression model, call modelplot function, input: beta,X,y,x1range,x2range\n",
        "modelplot(beta,X)"
      ],
      "execution_count": null,
      "outputs": []
    },
    {
      "cell_type": "markdown",
      "metadata": {
        "id": "VTHYrogg1y0Z"
      },
      "source": [
        "# **K-nearest Neighbor regression model**\n",
        "\n",
        "Besides parametric models such as linear regression, we also have non-parametric methods that do not assume the relationship between data. The simplest non-parametric model is the K-nearest Neighbor (KNN) model, which creates a predictive model by taking the average value of the nearest neighbours at any point. \n",
        "\n",
        "You can use the same data set to create a KNN by first executing the cell below to initialize KNN plotting and prediction. For now, we will use an existing KNN package from Scikit-learn (although coding KNN is very easy!). Because KNN is based on distance, it is essential to normalize the scale of all the input variables to 0-1 first. The detail is handled by the code below; all you need to do for now is to experiment with KNN regression and see the effect of the number of neighbours (i.e., ```n_neighbors```).\n"
      ]
    },
    {
      "cell_type": "code",
      "metadata": {
        "id": "t2jaZti3g2tP",
        "cellView": "form"
      },
      "source": [
        "#@title Initialize KNN plotting and prediction\n",
        "from sklearn import neighbors\n",
        "from sklearn import preprocessing\n",
        "\n",
        "#Function to visualize the trained linear regression model. This procedure can only be conducted if the number of variables are 1/2\n",
        "def modelplotKNN(knn,X,y):\n",
        "    n_var = X.shape[1]\n",
        "    if n_var == 2: #Procedure for two variables\n",
        "        x1range = np.array([np.min(X[:,0]), np.max(X[:,0])]) \n",
        "        x2range = np.array([np.min(X[:,1]), np.max(X[:,1])])\n",
        "        #Create prediction locations\n",
        "        x1, x2= np.meshgrid(np.linspace(x1range[0],x1range[1],21),np.linspace(x2range[0],x2range[1],21)) \n",
        "\n",
        "        x1n, x2n = np.meshgrid(np.linspace(0,1,21),np.linspace(0,1,21)) \n",
        "        x1_vec = x1n.reshape(-1,); x2_vec = x2n.reshape(-1,)\n",
        "        X_temp = np.ones((21*21,2)); X_temp[:,0] = x1_vec; X_temp[:,1] = x2_vec\n",
        "        #Calculates predictions at the prediction locations\n",
        "        y_hat_vec = knn.predict(X_temp)\n",
        "        y_hat_mat = y_hat_vec.reshape(21,21) #Transform the vector of predictions into matrix\n",
        "        \n",
        "        fig = plt.figure(figsize=[8,6])\n",
        "        ax = fig.gca(projection='3d')\n",
        "        ax.scatter3D(X[:,0],X[:,1],y,color='tab:orange',label='Samples')\n",
        "        surf = ax.plot_surface(x1,x2,y_hat_mat,alpha=0.3,color='tab:blue',label='KNN Model')\n",
        "        surf._facecolors2d=surf._facecolors3d\n",
        "        surf._edgecolors2d=surf._edgecolors3d\n",
        "        ax.set_xlabel('x1',fontsize=14)\n",
        "        ax.xaxis.labelpad = 10\n",
        "        ax.set_ylabel('x2',fontsize=14)\n",
        "        ax.yaxis.labelpad = 10\n",
        "        ax.set_zlabel('y',fontsize=14)\n",
        "        plt.title('KNN Model on The Samples',fontsize=16)\n",
        "        ax.legend(loc=2,bbox_to_anchor=(0.1, 0.9))\n",
        "        plt.show()\n",
        "    \n",
        "    elif n_var == 1: #Procedure for one variable\n",
        "        #Create prediction locations\n",
        "        x1range = np.array([np.min(X[:,0]), np.max(X[:,0])])\n",
        "        x1 = np.linspace(x1range[0],x1range[1],21)\n",
        "        x1n = np.linspace(0,1,21)\n",
        "        X_temp = np.ones((21,1)); X_temp[:,0] = x1n\n",
        "        #Calculates predictions at the prediction locations\n",
        "        y_hat = knn.predict(X_temp)\n",
        "        \n",
        "        fig = plt.figure(figsize=[8,6])\n",
        "        plt.scatter(X,y,color='tab:orange', label='Samples')\n",
        "        plt.plot(x1,y_hat,color='tab:blue',linewidth=4, label='KNN Model')\n",
        "        plt.title('KNN Model on The Samples', fontsize=16)\n",
        "        plt.xlabel('x',fontsize=14)\n",
        "        plt.ylabel('y',fontsize=14)\n",
        "        plt.legend()\n",
        "        plt.grid()\n",
        "        plt.show()\n",
        "    else:\n",
        "        print(\"Your data has more than two variables\")"
      ],
      "execution_count": 31,
      "outputs": []
    },
    {
      "cell_type": "markdown",
      "metadata": {
        "id": "dAVHYGuP2wNp"
      },
      "source": [
        "Now you can create the KNN model for the data set that we used earlier, just change ```n_neighbors``` and see the effect on your prediction (note that the visualization only applies for $p=1$ or $p=2$):"
      ]
    },
    {
      "cell_type": "code",
      "metadata": {
        "id": "6Fv8726H1QEK"
      },
      "source": [
        "#@title Visualize the trained KNN model\n",
        "\n",
        "n_neighbors = 10 # Number of neighbors\n",
        "\n",
        "min_max_scaler = preprocessing.MinMaxScaler()\n",
        "X_norm = min_max_scaler.fit_transform(X)\n",
        "knn = neighbors.KNeighborsRegressor(n_neighbors)\n",
        "knn.fit(X_norm, y)\n",
        "\n",
        "modelplotKNN(knn,X,y)\n"
      ],
      "execution_count": null,
      "outputs": []
    },
    {
      "cell_type": "markdown",
      "metadata": {
        "id": "9FnG6XhCm7RD"
      },
      "source": [
        "You can also predict the $y$ value everywhere! Let's try that by giving an arbitrary value of $x$:"
      ]
    },
    {
      "cell_type": "code",
      "metadata": {
        "id": "Lbb0aWi62_Om"
      },
      "source": [
        "x = np.array([[200,20]])\n",
        "knn.predict(min_max_scaler.transform(x))"
      ],
      "execution_count": null,
      "outputs": []
    },
    {
      "cell_type": "markdown",
      "metadata": {
        "id": "f1DiYfuZe3t6"
      },
      "source": [
        "Similar to linear regression, you can also use your excel file to make predictions based on the data written in excel / notepad:"
      ]
    },
    {
      "cell_type": "code",
      "metadata": {
        "id": "B1ZWjOGGexZ7"
      },
      "source": [
        "#Read the .csv file using Panda's module\n",
        "data_pred_knn = pd.read_csv('prediction_sites_Advertising_2D.csv')\n",
        "#Convert the format of the data into numy array. This procedure is conducted to make it consistent with other variables afterward. This formatted data will be saved as data_array.\n",
        "X_pred = data_pred_knn.to_numpy()\n",
        "ypredKNN = knn.predict(min_max_scaler.transform(X_pred))\n",
        "print(ypredKNN)"
      ],
      "execution_count": null,
      "outputs": []
    },
    {
      "cell_type": "markdown",
      "metadata": {
        "id": "gwNOdPCUxMf1"
      },
      "source": [
        "Similar to the linear regression, you can also save the predicted values from KNN into a csv file (which you can download into your PC):"
      ]
    },
    {
      "cell_type": "code",
      "metadata": {
        "id": "s24xXvCtxNHp"
      },
      "source": [
        "filenamecsv = 'predicted_KNN_values_Advertising_2D.csv' # Name of the file\n",
        "filenamexls = 'predicted_KNN_values_Advertising_2D.xlsx' # Name of the file\n",
        "DF = pd.DataFrame(np.hstack([X_pred,ypredKNN])) # Create a dataframe\n",
        "DF.to_csv(filenamecsv) # Save the predicted data to csv\n",
        "DF.to_excel(filenamexls) # Save the predicted data to csv"
      ],
      "execution_count": 69,
      "outputs": []
    },
    {
      "cell_type": "markdown",
      "metadata": {
        "id": "TFghbFs_eRzU"
      },
      "source": [
        "# **That's all folks!**"
      ]
    }
  ]
}